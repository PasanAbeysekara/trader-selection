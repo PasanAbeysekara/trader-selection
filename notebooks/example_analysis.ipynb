{
 "cells": [
  {
   "cell_type": "markdown",
   "metadata": {},
   "source": [
    "# Trader Selection Framework - Example Analysis\n",
    "\n",
    "This notebook demonstrates the complete workflow for analyzing crypto wallet addresses and identifying high-potential traders."
   ]
  },
  {
   "cell_type": "markdown",
   "metadata": {},
   "source": [
    "## Setup and Imports"
   ]
  },
  {
   "cell_type": "code",
   "execution_count": null,
   "metadata": {},
   "outputs": [],
   "source": [
    "import sys\n",
    "sys.path.insert(0, '../src')\n",
    "\n",
    "import pandas as pd\n",
    "import numpy as np\n",
    "import matplotlib.pyplot as plt\n",
    "import seaborn as sns\n",
    "\n",
    "from trader_analysis import (\n",
    "    FeatureEngineer,\n",
    "    TraderSegmentation,\n",
    "    HighPotentialPredictor,\n",
    "    PersonaAssigner,\n",
    "    ModelEvaluator\n",
    ")\n",
    "from trader_analysis.visualization import Visualizer\n",
    "\n",
    "%matplotlib inline\n",
    "sns.set_style('whitegrid')"
   ]
  },
  {
   "cell_type": "markdown",
   "metadata": {},
   "source": [
    "## 2. Load Data"
   ]
  },
  {
   "cell_type": "code",
   "execution_count": null,
   "metadata": {},
   "outputs": [],
   "source": [
    "# Load transaction data\n",
    "df = pd.read_csv('../data/traders_202510140811.csv')\n",
    "\n",
    "print(f\"Loaded {len(df)} transactions\")\n",
    "print(f\"Unique wallets: {df['address'].nunique()}\")\n",
    "print(f\"Date range: {df['timestamp'].min()} to {df['timestamp'].max()}\")\n",
    "\n",
    "df.head()"
   ]
  },
  {
   "cell_type": "markdown",
   "metadata": {},
   "source": [
    "## 3. Feature Engineering"
   ]
  },
  {
   "cell_type": "code",
   "execution_count": null,
   "metadata": {},
   "outputs": [],
   "source": [
    "engineer = FeatureEngineer(recency_decay=0.1)\n",
    "features = engineer.engineer_features(df)\n",
    "\n",
    "print(f\"\\nEngineered {len(features)} wallet feature vectors\")\n",
    "print(f\"Number of features: {len(engineer.get_feature_names())}\")\n",
    "\n",
    "features.head()"
   ]
  },
  {
   "cell_type": "markdown",
   "metadata": {},
   "source": [
    "## 4. Clustering Analysis"
   ]
  },
  {
   "cell_type": "code",
   "execution_count": null,
   "metadata": {},
   "outputs": [],
   "source": [
    "# Prepare features for clustering\n",
    "feature_cols = [col for col in features.columns if col != 'address']\n",
    "X = features[feature_cols].values\n",
    "\n",
    "# Perform clustering\n",
    "clusterer = TraderSegmentation(random_state=42)\n",
    "clusterer.fit_kmeans(X, optimize_k=True)\n",
    "\n",
    "# Evaluate\n",
    "metrics = clusterer.evaluate_clustering(X)\n",
    "\n",
    "# Add cluster labels\n",
    "features['cluster'] = clusterer.labels_"
   ]
  },
  {
   "cell_type": "code",
   "execution_count": null,
   "metadata": {},
   "outputs": [],
   "source": [
    "# Visualize clusters\n",
    "visualizer = Visualizer()\n",
    "features_2d = clusterer.reduce_dimensions_for_visualization(X)\n",
    "visualizer.plot_cluster_scatter(features_2d, clusterer.labels_)"
   ]
  },
  {
   "cell_type": "markdown",
   "metadata": {},
   "source": [
    "## 5. Persona Assignment"
   ]
  },
  {
   "cell_type": "code",
   "execution_count": null,
   "metadata": {},
   "outputs": [],
   "source": [
    "persona_assigner = PersonaAssigner()\n",
    "features = persona_assigner.assign_personas(features)\n",
    "\n",
    "# Show persona statistics\n",
    "persona_stats = persona_assigner.get_persona_statistics(features)\n",
    "persona_stats"
   ]
  },
  {
   "cell_type": "code",
   "execution_count": null,
   "metadata": {},
   "outputs": [],
   "source": [
    "# Visualize persona distribution\n",
    "visualizer.plot_persona_distribution(features)"
   ]
  },
  {
   "cell_type": "code",
   "execution_count": null,
   "metadata": {},
   "outputs": [],
   "source": [
    "# Performance by persona\n",
    "visualizer.plot_performance_by_persona(features, metric='total_pnl')"
   ]
  },
  {
   "cell_type": "markdown",
   "metadata": {},
   "source": [
    "## 6. Predictive Modeling"
   ]
  },
  {
   "cell_type": "code",
   "execution_count": null,
   "metadata": {},
   "outputs": [],
   "source": [
    "predictor = HighPotentialPredictor(random_state=42, use_smote=True)\n",
    "\n",
    "# Create target labels\n",
    "target = predictor.create_target_labels(features, top_percentile=0.2)\n",
    "\n",
    "# Prepare data\n",
    "X_train, X_test, y_train, y_test = predictor.prepare_data(features, target)\n",
    "\n",
    "# Train ensemble\n",
    "predictor.train_ensemble(X_train, y_train)\n",
    "\n",
    "# Evaluate\n",
    "metrics = predictor.evaluate(X_test, y_test)"
   ]
  },
  {
   "cell_type": "code",
   "execution_count": null,
   "metadata": {},
   "outputs": [],
   "source": [
    "# Feature importance\n",
    "importance_df = predictor.get_feature_importance()\n",
    "visualizer.plot_feature_importance(importance_df, top_n=15)"
   ]
  },
  {
   "cell_type": "markdown",
   "metadata": {},
   "source": [
    "## 7. Identify High-Potential Traders"
   ]
  },
  {
   "cell_type": "code",
   "execution_count": null,
   "metadata": {},
   "outputs": [],
   "source": [
    "# Predict on all data\n",
    "X_all_scaled = predictor.scaler.transform(features[feature_cols].values)\n",
    "features['high_potential_score'] = predictor.predict_proba_ensemble(X_all_scaled)[:, 1]\n",
    "features['high_potential'] = predictor.predict(X_all_scaled)\n",
    "\n",
    "# Select high-potential traders\n",
    "high_potential = features[features['high_potential'] == 1].sort_values(\n",
    "    'high_potential_score', ascending=False\n",
    ")\n",
    "\n",
    "print(f\"Identified {len(high_potential)} high-potential traders\")\n",
    "high_potential[['address', 'persona', 'high_potential_score', 'weighted_pnl', 'roi', 'win_rate']].head(20)"
   ]
  },
  {
   "cell_type": "markdown",
   "metadata": {},
   "source": [
    "## 8. Statistical Validation"
   ]
  },
  {
   "cell_type": "code",
   "execution_count": null,
   "metadata": {},
   "outputs": [],
   "source": [
    "evaluator = ModelEvaluator(confidence_level=0.95)\n",
    "\n",
    "# Compare personas\n",
    "persona_comparison = evaluator.compare_personas(features, metric='total_pnl')\n",
    "persona_comparison.head(10)"
   ]
  },
  {
   "cell_type": "code",
   "execution_count": null,
   "metadata": {},
   "outputs": [],
   "source": [
    "# Confidence intervals\n",
    "confidence_intervals = evaluator.calculate_confidence_intervals(features, metric='total_pnl')\n",
    "confidence_intervals"
   ]
  },
  {
   "cell_type": "markdown",
   "metadata": {},
   "source": [
    "## 9. Summary Dashboard"
   ]
  },
  {
   "cell_type": "code",
   "execution_count": null,
   "metadata": {},
   "outputs": [],
   "source": [
    "visualizer.create_summary_dashboard(features)"
   ]
  },
  {
   "cell_type": "markdown",
   "metadata": {},
   "source": [
    "## 10. Export Results"
   ]
  },
  {
   "cell_type": "code",
   "execution_count": null,
   "metadata": {},
   "outputs": [],
   "source": [
    "# Save results\n",
    "features.to_csv('../outputs/complete_analysis_results.csv', index=False)\n",
    "high_potential.to_csv('../outputs/high_potential_traders.csv', index=False)\n",
    "\n",
    "print(\"Results saved to ../outputs/\")"
   ]
  }
 ],
 "metadata": {
  "kernelspec": {
   "display_name": "Python 3",
   "language": "python",
   "name": "python3"
  },
  "language_info": {
   "codemirror_mode": {
    "name": "ipython",
    "version": 3
   },
   "file_extension": ".py",
   "mimetype": "text/x-python",
   "name": "python",
   "nbconvert_exporter": "python",
   "pygments_lexer": "ipython3",
   "version": "3.8.0"
  }
 },
 "nbformat": 4,
 "nbformat_minor": 4
}
